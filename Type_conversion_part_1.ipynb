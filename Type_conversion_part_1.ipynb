{
  "nbformat": 4,
  "nbformat_minor": 0,
  "metadata": {
    "colab": {
      "provenance": []
    },
    "kernelspec": {
      "name": "python3",
      "display_name": "Python 3"
    },
    "language_info": {
      "name": "python"
    }
  },
  "cells": [
    {
      "cell_type": "markdown",
      "source": [
        "**python accepts the latest memory**"
      ],
      "metadata": {
        "id": "aL6N3mmpXOmx"
      }
    },
    {
      "cell_type": "code",
      "source": [
        "a = 100"
      ],
      "metadata": {
        "id": "L2mw4okPXYr1"
      },
      "execution_count": 1,
      "outputs": []
    },
    {
      "cell_type": "code",
      "source": [
        "a= 500"
      ],
      "metadata": {
        "id": "N4fXwuPlXosd"
      },
      "execution_count": 2,
      "outputs": []
    },
    {
      "cell_type": "code",
      "source": [
        "a"
      ],
      "metadata": {
        "colab": {
          "base_uri": "https://localhost:8080/"
        },
        "id": "HyP9RlODXyM_",
        "outputId": "a333c577-a509-436c-a460-1786a64c8cf0"
      },
      "execution_count": 3,
      "outputs": [
        {
          "output_type": "execute_result",
          "data": {
            "text/plain": [
              "500"
            ]
          },
          "metadata": {},
          "execution_count": 3
        }
      ]
    },
    {
      "cell_type": "code",
      "source": [
        "A= 100 # python is highly case sensitive"
      ],
      "metadata": {
        "id": "VjfMg9kYX8wN"
      },
      "execution_count": 4,
      "outputs": []
    },
    {
      "cell_type": "code",
      "source": [
        "A"
      ],
      "metadata": {
        "colab": {
          "base_uri": "https://localhost:8080/"
        },
        "id": "7CxsXLNjJDH3",
        "outputId": "5cfe39f3-b88c-4c32-cecb-9223bc556a53"
      },
      "execution_count": 5,
      "outputs": [
        {
          "output_type": "execute_result",
          "data": {
            "text/plain": [
              "100"
            ]
          },
          "metadata": {},
          "execution_count": 5
        }
      ]
    },
    {
      "cell_type": "markdown",
      "source": [
        "**#type conversion part 1 : data type conversion**"
      ],
      "metadata": {
        "id": "-IjHmxEJJUWa"
      }
    },
    {
      "cell_type": "code",
      "source": [
        "a = 10"
      ],
      "metadata": {
        "id": "o38xTRDhZQqZ"
      },
      "execution_count": 6,
      "outputs": []
    },
    {
      "cell_type": "code",
      "source": [
        "type(a)"
      ],
      "metadata": {
        "colab": {
          "base_uri": "https://localhost:8080/"
        },
        "id": "zhs_Y0RFZg6R",
        "outputId": "0ee38a0a-2bfb-47dd-a6a0-5c233e7f91af"
      },
      "execution_count": 7,
      "outputs": [
        {
          "output_type": "execute_result",
          "data": {
            "text/plain": [
              "int"
            ]
          },
          "metadata": {},
          "execution_count": 7
        }
      ]
    },
    {
      "cell_type": "code",
      "source": [
        "float(a)  # 1. int to float type conversion is possible"
      ],
      "metadata": {
        "colab": {
          "base_uri": "https://localhost:8080/"
        },
        "id": "_g9FS8F8ZkG9",
        "outputId": "00cd0e72-daed-41f4-d7a7-7e0b570771f5"
      },
      "execution_count": 8,
      "outputs": [
        {
          "output_type": "execute_result",
          "data": {
            "text/plain": [
              "10.0"
            ]
          },
          "metadata": {},
          "execution_count": 8
        }
      ]
    },
    {
      "cell_type": "code",
      "source": [
        "str(a)   # 2. int to str type conversion is possible"
      ],
      "metadata": {
        "colab": {
          "base_uri": "https://localhost:8080/",
          "height": 36
        },
        "id": "kkNjtErfZzO7",
        "outputId": "88fa896f-abcb-43c4-d5d8-a7cf71d25b65"
      },
      "execution_count": 9,
      "outputs": [
        {
          "output_type": "execute_result",
          "data": {
            "text/plain": [
              "'10'"
            ],
            "application/vnd.google.colaboratory.intrinsic+json": {
              "type": "string"
            }
          },
          "metadata": {},
          "execution_count": 9
        }
      ]
    },
    {
      "cell_type": "code",
      "source": [
        "bool(a)  # 3.int to bool type conversion possible"
      ],
      "metadata": {
        "colab": {
          "base_uri": "https://localhost:8080/"
        },
        "id": "LG86oHDZaBUt",
        "outputId": "bd775699-cb36-4156-e7ec-ae10b72d31d2"
      },
      "execution_count": 10,
      "outputs": [
        {
          "output_type": "execute_result",
          "data": {
            "text/plain": [
              "True"
            ]
          },
          "metadata": {},
          "execution_count": 10
        }
      ]
    },
    {
      "cell_type": "code",
      "source": [
        "complex(a) # 4. int to complex type conversion possible"
      ],
      "metadata": {
        "colab": {
          "base_uri": "https://localhost:8080/"
        },
        "id": "VmjBGPgLaI2U",
        "outputId": "4076e279-80fb-4401-c94e-13479756cb44"
      },
      "execution_count": 11,
      "outputs": [
        {
          "output_type": "execute_result",
          "data": {
            "text/plain": [
              "(10+0j)"
            ]
          },
          "metadata": {},
          "execution_count": 11
        }
      ]
    },
    {
      "cell_type": "code",
      "source": [
        "r = 100.4"
      ],
      "metadata": {
        "id": "1QkOxz6kbTOy"
      },
      "execution_count": 12,
      "outputs": []
    },
    {
      "cell_type": "code",
      "source": [
        "# get input in python\n",
        "\n",
        "a = 31531725  # value declaration\n",
        "b = 85875868\n",
        "c = a + b\n"
      ],
      "metadata": {
        "id": "HYOzn9WAmJem"
      },
      "execution_count": 13,
      "outputs": []
    },
    {
      "cell_type": "code",
      "source": [
        "# display the object\n",
        "print(c)"
      ],
      "metadata": {
        "colab": {
          "base_uri": "https://localhost:8080/"
        },
        "id": "ceMz1e-om5g9",
        "outputId": "e2215ad7-0830-4027-dd70-67a5f7749f21"
      },
      "execution_count": 14,
      "outputs": [
        {
          "output_type": "stream",
          "name": "stdout",
          "text": [
            "117407593\n"
          ]
        }
      ]
    },
    {
      "cell_type": "code",
      "source": [
        "# call the object / reference an object\n",
        "c"
      ],
      "metadata": {
        "colab": {
          "base_uri": "https://localhost:8080/"
        },
        "id": "0MXbI0yknB8k",
        "outputId": "48d2e024-f38e-42d4-ee69-c79cc583b601"
      },
      "execution_count": 15,
      "outputs": [
        {
          "output_type": "execute_result",
          "data": {
            "text/plain": [
              "117407593"
            ]
          },
          "metadata": {},
          "execution_count": 15
        }
      ]
    },
    {
      "cell_type": "code",
      "source": [
        "a = int(input(\"enter a value:\"))\n",
        "b = float(input(\"b enna sollu :\"))\n",
        "name = str(input(\"enter name:\"))\n",
        "c = a+ b\n",
        "print(c,name)"
      ],
      "metadata": {
        "colab": {
          "base_uri": "https://localhost:8080/"
        },
        "id": "KQ50oT8xneE-",
        "outputId": "7453d9ac-eeaa-4052-e4e3-503bd31e14c6"
      },
      "execution_count": 16,
      "outputs": [
        {
          "output_type": "stream",
          "name": "stdout",
          "text": [
            "enter a value:67\n",
            "b enna sollu :23\n",
            "enter name:ananthi\n",
            "90.0 ananthi\n"
          ]
        }
      ]
    }
  ]
}